{
 "cells": [
  {
   "cell_type": "code",
   "execution_count": 13,
   "metadata": {},
   "outputs": [],
   "source": [
    "from keras.models import Sequential\n",
    "from keras.layers.normalization import BatchNormalization\n",
    "from keras.layers.convolutional import Conv2D, MaxPooling2D\n",
    "from keras.layers.core import Activation, Flatten, Dropout, Dense\n",
    "from keras import backend as K\n",
    "from keras.callbacks import Callback\n",
    "from sklearn.metrics import confusion_matrix, f1_score, precision_score, recall_score\n",
    "from keras.callbacks import ModelCheckpoint"
   ]
  },
  {
   "cell_type": "code",
   "execution_count": 14,
   "metadata": {},
   "outputs": [],
   "source": [
    "class SmallerVGGNet:\n",
    "    @staticmethod #change activation to sigmoid for multi class multi label classification\n",
    "    def build(width, height, depth, classes, finalAct='softmax'): #depth = num of channels\n",
    "        model = Sequential()\n",
    "        inputShape = (height, width, depth)\n",
    "        chanDim = -1\n",
    "        \n",
    "        if K.image_data_format() == \"channels_first\":\n",
    "            inputShape = (depth, height, width)\n",
    "            chanDim = 1\n",
    "            \n",
    "        model.add(Conv2D(32 , (3, 3), padding=\"same\", input_shape=inputShape))\n",
    "        model.add(Activation(\"relu\"))\n",
    "        model.add(BatchNormalization(axis=chanDim))\n",
    "        model.add(MaxPooling2D(pool_size=(3, 3)))\n",
    "        model.add(Dropout(0.25))\n",
    "        model.add(Conv2D(64 , (3, 3), padding=\"same\")) #, input_shape=inputShape))\n",
    "        model.add(Activation(\"relu\"))\n",
    "        model.add(BatchNormalization(axis=chanDim))\n",
    "        model.add(Conv2D(64 , (3, 3), padding=\"same\")) #, input_shape=inputShape))\n",
    "        model.add(Activation(\"relu\"))\n",
    "        model.add(BatchNormalization(axis=chanDim))\n",
    "        model.add(MaxPooling2D(pool_size=(2, 2)))\n",
    "        model.add(Dropout(0.25))\n",
    "        \n",
    "        model.add(Conv2D(128 , (3, 3), padding=\"same\")) #, input_shape=inputShape))\n",
    "        model.add(Activation(\"relu\"))\n",
    "        model.add(BatchNormalization(axis=chanDim))\n",
    "        model.add(Conv2D(128, (3, 3), padding=\"same\")) #, input_shape=inputShape))\n",
    "        model.add(Activation(\"relu\"))\n",
    "        model.add(BatchNormalization(axis=chanDim))\n",
    "        model.add(MaxPooling2D(pool_size=(2, 2)))\n",
    "        model.add(Dropout(0.25))\n",
    "#the change in filters, kernels, poolsizes progressively reduce spatial size but increase depth!\n",
    "        model.add(Flatten())\n",
    "        model.add(Dense(1024))\n",
    "        model.add(Activation(\"relu\"))\n",
    "        model.add(BatchNormalization())\n",
    "        model.add(Dropout(0.5))\n",
    "        \n",
    "        model.add(Dense(classes))\n",
    "        model.add(Activation(finalAct))\n",
    "        \n",
    "        return model\n",
    "    "
   ]
  },
  {
   "cell_type": "code",
   "execution_count": 15,
   "metadata": {},
   "outputs": [],
   "source": [
    "import matplotlib\n",
    "matplotlib.use(\"Agg\")\n",
    "\n",
    "from keras.preprocessing.image import ImageDataGenerator, img_to_array\n",
    "from keras.optimizers import Adam\n",
    "from sklearn.preprocessing import MultiLabelBinarizer\n",
    "from sklearn.model_selection import train_test_split\n",
    "from pyimagesearch.smallervggnet import SmallerVGGNet\n",
    "import matplotlib.pyplot as plt\n",
    "from imutils import paths\n",
    "import numpy as np\n",
    "import argparse\n",
    "import random\n",
    "#import pickle #not done this time\n",
    "import cv2\n",
    "import os\n",
    "from tqdm import tqdm"
   ]
  },
  {
   "cell_type": "code",
   "execution_count": 16,
   "metadata": {},
   "outputs": [],
   "source": [
    "epochs = 20\n",
    "lr = 0.001\n",
    "batch_size = 32\n",
    "image_size = (96, 96, 3)"
   ]
  },
  {
   "cell_type": "code",
   "execution_count": 17,
   "metadata": {},
   "outputs": [],
   "source": [
    "imagePaths = sorted(list(paths.list_images(\"dataset\")))\n",
    "random.seed(42)\n",
    "random.shuffle(imagePaths)\n",
    "\n",
    "data = []\n",
    "labels = []\n"
   ]
  },
  {
   "cell_type": "code",
   "execution_count": 18,
   "metadata": {},
   "outputs": [
    {
     "name": "stderr",
     "output_type": "stream",
     "text": [
      "  0%|          | 6/2165 [00:00<00:53, 40.69it/s]"
     ]
    },
    {
     "name": "stdout",
     "output_type": "stream",
     "text": [
      "#loading images...\n"
     ]
    },
    {
     "name": "stderr",
     "output_type": "stream",
     "text": [
      "100%|██████████| 2165/2165 [01:13<00:00, 29.65it/s]\n"
     ]
    }
   ],
   "source": [
    "print(\"#loading images...\")\n",
    "\n",
    "unique = []\n",
    "rest= []\n",
    "\n",
    "for imagepath in tqdm(imagePaths):\n",
    "    img = cv2.imread(imagepath)\n",
    "    img = cv2.resize(img, (image_size[1], image_size[0]))\n",
    "    img = img_to_array(img)\n",
    "    data.append(img)\n",
    "    l = imagepath.split(os.path.sep)[-2].split(\"_\")\n",
    "    other = imagepath.split(os.path.sep)[-2]\n",
    "    if other not in rest:\n",
    "        rest.append(other)\n",
    "    if l not in unique:\n",
    "        unique.append(l)\n",
    "    labels.append(l)"
   ]
  },
  {
   "cell_type": "code",
   "execution_count": 19,
   "metadata": {},
   "outputs": [
    {
     "name": "stdout",
     "output_type": "stream",
     "text": [
      "['blue_dress', 'red_shirt', 'blue_jeans', 'red_dress', 'blue_shirt', 'black_jeans']\n"
     ]
    }
   ],
   "source": [
    "print(rest)"
   ]
  },
  {
   "cell_type": "code",
   "execution_count": 9,
   "metadata": {},
   "outputs": [
    {
     "name": "stdout",
     "output_type": "stream",
     "text": [
      "[['blue', 'dress'], ['red', 'shirt'], ['blue', 'jeans'], ['red', 'dress'], ['blue', 'shirt'], ['black', 'jeans']]\n",
      "\n",
      "[['blue', 'dress'], ['red', 'shirt'], ['blue', 'jeans'], ['blue', 'dress'], ['red', 'dress'], ['red', 'dress'], ['blue', 'shirt'], ['black', 'jeans'], ['blue', 'shirt'], ['red', 'shirt'], ['blue', 'jeans'], ['red', 'dress'], ['red', 'shirt'], ['blue', 'dress'], ['black', 'jeans'], ['red', 'dress'], ['red', 'dress'], ['blue', 'shirt'], ['blue', 'jeans'], ['red', 'shirt'], ['blue', 'dress'], ['red', 'dress'], ['red', 'dress'], ['blue', 'shirt'], ['blue', 'shirt'], ['red', 'dress'], ['blue', 'jeans'], ['black', 'jeans'], ['blue', 'jeans'], ['red', 'shirt'], ['red', 'dress'], ['blue', 'jeans'], ['red', 'shirt'], ['blue', 'shirt'], ['blue', 'jeans'], ['blue', 'shirt'], ['red', 'shirt'], ['red', 'shirt'], ['red', 'shirt'], ['blue', 'dress'], ['blue', 'jeans'], ['blue', 'dress'], ['red', 'shirt'], ['blue', 'shirt'], ['blue', 'jeans'], ['black', 'jeans'], ['red', 'dress'], ['blue', 'shirt'], ['red', 'dress'], ['blue', 'jeans'], ['red', 'dress'], ['black', 'jeans'], ['red', 'dress'], ['blue', 'jeans'], ['red', 'dress'], ['red', 'dress'], ['blue', 'shirt'], ['red', 'shirt'], ['red', 'shirt'], ['red', 'dress'], ['red', 'dress'], ['blue', 'shirt'], ['blue', 'jeans'], ['black', 'jeans'], ['red', 'shirt'], ['red', 'shirt'], ['blue', 'jeans'], ['blue', 'shirt'], ['red', 'dress'], ['blue', 'shirt'], ['red', 'dress'], ['blue', 'jeans'], ['blue', 'dress'], ['blue', 'shirt'], ['blue', 'jeans'], ['red', 'shirt'], ['red', 'shirt'], ['black', 'jeans'], ['red', 'dress'], ['red', 'dress'], ['black', 'jeans'], ['red', 'dress'], ['black', 'jeans'], ['blue', 'dress'], ['red', 'shirt'], ['blue', 'jeans'], ['red', 'dress'], ['red', 'shirt'], ['blue', 'shirt'], ['blue', 'dress'], ['red', 'dress'], ['red', 'shirt'], ['blue', 'dress'], ['blue', 'jeans'], ['black', 'jeans'], ['red', 'shirt'], ['blue', 'dress'], ['blue', 'dress'], ['black', 'jeans'], ['black', 'jeans'], ['blue', 'jeans'], ['red', 'shirt'], ['red', 'dress'], ['red', 'shirt'], ['red', 'shirt'], ['blue', 'jeans'], ['red', 'shirt'], ['blue', 'shirt'], ['black', 'jeans'], ['blue', 'jeans'], ['blue', 'shirt'], ['blue', 'dress'], ['black', 'jeans'], ['black', 'jeans'], ['blue', 'jeans'], ['red', 'dress'], ['blue', 'jeans'], ['blue', 'dress'], ['red', 'dress'], ['blue', 'shirt'], ['blue', 'dress'], ['blue', 'dress'], ['blue', 'shirt'], ['blue', 'jeans'], ['blue', 'jeans'], ['red', 'shirt'], ['blue', 'dress'], ['red', 'dress'], ['blue', 'jeans'], ['red', 'shirt'], ['blue', 'jeans'], ['blue', 'shirt'], ['black', 'jeans'], ['blue', 'shirt'], ['blue', 'shirt'], ['red', 'shirt'], ['red', 'shirt'], ['red', 'shirt'], ['red', 'dress'], ['red', 'dress'], ['black', 'jeans'], ['red', 'shirt'], ['blue', 'dress'], ['red', 'dress'], ['black', 'jeans'], ['black', 'jeans'], ['blue', 'jeans'], ['blue', 'dress'], ['blue', 'jeans'], ['red', 'dress'], ['black', 'jeans'], ['red', 'shirt'], ['blue', 'jeans'], ['blue', 'shirt'], ['red', 'dress'], ['red', 'dress'], ['red', 'dress'], ['blue', 'shirt'], ['black', 'jeans'], ['red', 'dress'], ['blue', 'shirt'], ['black', 'jeans'], ['blue', 'shirt'], ['blue', 'shirt'], ['blue', 'jeans'], ['red', 'shirt'], ['blue', 'jeans'], ['red', 'dress'], ['red', 'dress'], ['red', 'dress'], ['red', 'dress'], ['blue', 'jeans'], ['blue', 'dress'], ['red', 'shirt'], ['blue', 'shirt'], ['blue', 'jeans'], ['red', 'shirt'], ['black', 'jeans'], ['black', 'jeans'], ['red', 'dress'], ['blue', 'dress'], ['blue', 'shirt'], ['blue', 'jeans'], ['blue', 'jeans'], ['black', 'jeans'], ['black', 'jeans'], ['blue', 'jeans'], ['blue', 'shirt'], ['red', 'dress'], ['red', 'shirt'], ['red', 'dress'], ['blue', 'dress'], ['red', 'shirt'], ['red', 'shirt'], ['red', 'shirt'], ['blue', 'dress'], ['red', 'shirt'], ['blue', 'shirt'], ['red', 'dress'], ['blue', 'shirt'], ['red', 'dress'], ['red', 'shirt'], ['blue', 'dress'], ['red', 'shirt'], ['black', 'jeans'], ['black', 'jeans'], ['black', 'jeans'], ['blue', 'dress'], ['blue', 'dress'], ['black', 'jeans'], ['blue', 'dress'], ['red', 'shirt'], ['red', 'dress'], ['red', 'dress'], ['blue', 'dress'], ['blue', 'shirt'], ['red', 'dress'], ['red', 'shirt'], ['red', 'shirt'], ['blue', 'jeans'], ['black', 'jeans'], ['black', 'jeans'], ['red', 'dress'], ['blue', 'dress'], ['blue', 'shirt'], ['blue', 'shirt'], ['blue', 'dress'], ['blue', 'dress'], ['blue', 'shirt'], ['black', 'jeans'], ['red', 'dress'], ['blue', 'jeans'], ['red', 'shirt'], ['red', 'shirt'], ['blue', 'dress'], ['blue', 'shirt'], ['blue', 'jeans'], ['blue', 'dress'], ['blue', 'jeans'], ['blue', 'dress'], ['blue', 'dress'], ['blue', 'jeans'], ['blue', 'jeans'], ['black', 'jeans'], ['blue', 'jeans'], ['blue', 'shirt'], ['blue', 'shirt'], ['blue', 'jeans'], ['blue', 'shirt'], ['blue', 'dress'], ['black', 'jeans'], ['black', 'jeans'], ['black', 'jeans'], ['red', 'shirt'], ['red', 'dress'], ['blue', 'shirt'], ['red', 'dress'], ['red', 'shirt'], ['blue', 'jeans'], ['blue', 'jeans'], ['red', 'dress'], ['blue', 'jeans'], ['red', 'shirt'], ['red', 'shirt'], ['blue', 'shirt'], ['red', 'shirt'], ['black', 'jeans'], ['blue', 'shirt'], ['blue', 'jeans'], ['blue', 'dress'], ['blue', 'dress'], ['blue', 'jeans'], ['blue', 'dress'], ['black', 'jeans'], ['blue', 'jeans'], ['blue', 'dress'], ['blue', 'jeans'], ['blue', 'dress'], ['blue', 'shirt'], ['black', 'jeans'], ['black', 'jeans'], ['red', 'dress'], ['red', 'shirt'], ['blue', 'shirt'], ['blue', 'dress'], ['blue', 'shirt'], ['red', 'dress'], ['blue', 'jeans'], ['blue', 'dress'], ['red', 'shirt'], ['red', 'shirt'], ['black', 'jeans'], ['blue', 'shirt'], ['blue', 'dress'], ['black', 'jeans'], ['blue', 'jeans'], ['red', 'shirt'], ['blue', 'dress'], ['blue', 'jeans'], ['red', 'dress'], ['blue', 'jeans'], ['black', 'jeans'], ['blue', 'jeans'], ['blue', 'jeans'], ['red', 'shirt'], ['blue', 'shirt'], ['blue', 'jeans'], ['blue', 'dress'], ['red', 'shirt'], ['blue', 'dress'], ['blue', 'jeans'], ['blue', 'shirt'], ['blue', 'dress'], ['blue', 'shirt'], ['black', 'jeans'], ['blue', 'jeans'], ['blue', 'dress'], ['red', 'shirt'], ['blue', 'shirt'], ['red', 'dress'], ['blue', 'dress'], ['red', 'shirt'], ['blue', 'shirt'], ['red', 'shirt'], ['red', 'dress'], ['red', 'dress'], ['black', 'jeans'], ['black', 'jeans'], ['red', 'shirt'], ['blue', 'shirt'], ['blue', 'shirt'], ['blue', 'shirt'], ['red', 'shirt'], ['red', 'shirt'], ['black', 'jeans'], ['red', 'dress'], ['red', 'dress'], ['red', 'dress'], ['red', 'dress'], ['blue', 'shirt'], ['blue', 'dress'], ['blue', 'dress'], ['red', 'dress'], ['blue', 'jeans'], ['blue', 'jeans'], ['blue', 'dress'], ['red', 'shirt'], ['red', 'shirt'], ['blue', 'jeans'], ['blue', 'shirt'], ['blue', 'shirt'], ['blue', 'shirt'], ['red', 'dress'], ['blue', 'dress'], ['red', 'shirt'], ['red', 'dress'], ['blue', 'jeans'], ['red', 'dress'], ['red', 'dress'], ['blue', 'shirt'], ['blue', 'shirt'], ['red', 'shirt'], ['blue', 'shirt'], ['blue', 'jeans'], ['blue', 'jeans'], ['blue', 'dress'], ['blue', 'shirt'], ['red', 'shirt'], ['blue', 'jeans'], ['blue', 'jeans'], ['red', 'shirt'], ['black', 'jeans'], ['black', 'jeans'], ['red', 'shirt'], ['black', 'jeans'], ['red', 'shirt'], ['blue', 'dress'], ['black', 'jeans'], ['red', 'shirt'], ['black', 'jeans'], ['red', 'shirt'], ['blue', 'jeans'], ['black', 'jeans'], ['blue', 'shirt'], ['red', 'dress'], ['blue', 'jeans'], ['blue', 'shirt'], ['black', 'jeans'], ['blue', 'dress'], ['red', 'dress'], ['red', 'dress'], ['red', 'dress'], ['blue', 'dress'], ['black', 'jeans'], ['blue', 'shirt'], ['blue', 'shirt'], ['blue', 'jeans'], ['red', 'shirt'], ['red', 'dress'], ['red', 'dress'], ['red', 'dress'], ['blue', 'dress'], ['red', 'shirt'], ['blue', 'jeans'], ['blue', 'dress'], ['red', 'shirt'], ['blue', 'dress'], ['red', 'dress'], ['red', 'dress'], ['red', 'shirt'], ['red', 'dress'], ['blue', 'dress'], ['black', 'jeans'], ['blue', 'dress'], ['red', 'dress'], ['blue', 'dress'], ['blue', 'dress'], ['black', 'jeans'], ['blue', 'jeans'], ['blue', 'jeans'], ['black', 'jeans'], ['blue', 'shirt'], ['red', 'dress'], ['red', 'dress'], ['blue', 'jeans'], ['blue', 'dress'], ['red', 'shirt'], ['red', 'dress'], ['red', 'dress'], ['blue', 'dress'], ['black', 'jeans'], ['red', 'shirt'], ['red', 'dress'], ['black', 'jeans'], ['blue', 'shirt'], ['red', 'shirt'], ['blue', 'dress'], ['blue', 'jeans'], ['red', 'dress'], ['red', 'shirt'], ['red', 'dress'], ['blue', 'shirt'], ['red', 'shirt'], ['red', 'dress'], ['blue', 'jeans'], ['blue', 'shirt'], ['blue', 'jeans'], ['red', 'dress'], ['blue', 'jeans'], ['blue', 'dress'], ['blue', 'shirt'], ['red', 'dress'], ['red', 'dress'], ['blue', 'shirt'], ['red', 'dress'], ['red', 'shirt'], ['blue', 'dress'], ['blue', 'shirt'], ['red', 'shirt'], ['black', 'jeans'], ['blue', 'jeans'], ['blue', 'shirt'], ['red', 'dress'], ['red', 'shirt'], ['blue', 'shirt'], ['red', 'shirt'], ['black', 'jeans'], ['blue', 'shirt'], ['blue', 'dress'], ['black', 'jeans'], ['blue', 'dress'], ['blue', 'shirt'], ['blue', 'dress'], ['red', 'dress'], ['red', 'shirt'], ['blue', 'shirt'], ['blue', 'shirt'], ['red', 'dress'], ['blue', 'shirt'], ['black', 'jeans'], ['blue', 'dress'], ['blue', 'shirt'], ['blue', 'jeans'], ['black', 'jeans'], ['black', 'jeans'], ['blue', 'dress'], ['black', 'jeans'], ['red', 'dress'], ['red', 'dress'], ['blue', 'jeans'], ['black', 'jeans'], ['blue', 'jeans'], ['blue', 'shirt'], ['red', 'shirt'], ['blue', 'jeans'], ['blue', 'jeans'], ['red', 'shirt'], ['blue', 'shirt'], ['blue', 'shirt'], ['red', 'shirt'], ['red', 'dress'], ['blue', 'shirt'], ['black', 'jeans'], ['blue', 'dress'], ['black', 'jeans'], ['blue', 'dress'], ['blue', 'jeans'], ['red', 'dress'], ['red', 'dress'], ['blue', 'dress'], ['black', 'jeans'], ['red', 'dress'], ['black', 'jeans'], ['red', 'shirt'], ['red', 'dress'], ['red', 'dress'], ['red', 'shirt'], ['red', 'dress'], ['blue', 'jeans'], ['red', 'shirt'], ['blue', 'jeans'], ['blue', 'jeans'], ['red', 'shirt'], ['blue', 'dress'], ['black', 'jeans'], ['red', 'dress'], ['red', 'dress'], ['blue', 'jeans'], ['black', 'jeans'], ['red', 'dress'], ['red', 'dress'], ['red', 'dress'], ['black', 'jeans'], ['black', 'jeans'], ['blue', 'jeans'], ['blue', 'jeans'], ['blue', 'dress'], ['red', 'dress'], ['blue', 'dress'], ['blue', 'dress'], ['blue', 'jeans'], ['blue', 'jeans'], ['blue', 'shirt'], ['red', 'dress'], ['blue', 'shirt'], ['black', 'jeans'], ['black', 'jeans'], ['red', 'dress'], ['blue', 'dress'], ['black', 'jeans'], ['blue', 'dress'], ['black', 'jeans'], ['blue', 'dress'], ['blue', 'shirt'], ['blue', 'dress'], ['red', 'dress'], ['blue', 'dress'], ['blue', 'shirt'], ['blue', 'jeans'], ['blue', 'dress'], ['red', 'dress'], ['blue', 'shirt'], ['red', 'dress'], ['red', 'dress'], ['red', 'dress'], ['black', 'jeans'], ['blue', 'dress'], ['blue', 'jeans'], ['black', 'jeans'], ['black', 'jeans'], ['blue', 'dress'], ['blue', 'dress'], ['red', 'dress'], ['blue', 'shirt'], ['blue', 'jeans'], ['blue', 'jeans'], ['red', 'dress'], ['blue', 'dress'], ['red', 'dress'], ['red', 'dress'], ['blue', 'dress'], ['blue', 'shirt'], ['black', 'jeans'], ['blue', 'jeans'], ['blue', 'jeans'], ['blue', 'shirt'], ['blue', 'shirt'], ['red', 'dress'], ['red', 'dress'], ['blue', 'shirt'], ['blue', 'jeans'], ['red', 'dress'], ['blue', 'dress'], ['blue', 'shirt'], ['blue', 'shirt'], ['red', 'shirt'], ['black', 'jeans'], ['blue', 'jeans'], ['red', 'shirt'], ['blue', 'shirt'], ['red', 'dress'], ['blue', 'dress'], ['blue', 'dress'], ['red', 'shirt'], ['red', 'dress'], ['blue', 'dress'], ['blue', 'jeans'], ['black', 'jeans'], ['blue', 'shirt'], ['blue', 'dress'], ['blue', 'dress'], ['black', 'jeans'], ['blue', 'dress'], ['black', 'jeans'], ['black', 'jeans'], ['red', 'shirt'], ['black', 'jeans'], ['blue', 'dress'], ['black', 'jeans'], ['blue', 'jeans'], ['red', 'dress'], ['blue', 'dress'], ['red', 'shirt'], ['blue', 'shirt'], ['black', 'jeans'], ['red', 'shirt'], ['red', 'shirt'], ['blue', 'dress'], ['red', 'dress'], ['blue', 'shirt'], ['blue', 'shirt'], ['blue', 'dress'], ['red', 'dress'], ['black', 'jeans'], ['blue', 'dress'], ['blue', 'shirt'], ['blue', 'shirt'], ['blue', 'dress'], ['blue', 'shirt'], ['blue', 'shirt'], ['blue', 'shirt'], ['red', 'dress'], ['blue', 'jeans'], ['blue', 'dress'], ['blue', 'jeans'], ['red', 'shirt'], ['blue', 'shirt'], ['blue', 'dress'], ['blue', 'dress'], ['red', 'dress'], ['blue', 'dress'], ['black', 'jeans'], ['red', 'dress'], ['red', 'dress'], ['blue', 'shirt'], ['red', 'shirt'], ['blue', 'jeans'], ['blue', 'jeans'], ['blue', 'shirt'], ['blue', 'jeans'], ['red', 'dress'], ['red', 'shirt'], ['red', 'shirt'], ['red', 'dress'], ['black', 'jeans'], ['blue', 'dress'], ['red', 'shirt'], ['red', 'dress'], ['blue', 'dress'], ['black', 'jeans'], ['blue', 'shirt'], ['red', 'dress'], ['blue', 'dress'], ['blue', 'shirt'], ['blue', 'shirt'], ['red', 'shirt'], ['blue', 'dress'], ['blue', 'dress'], ['blue', 'shirt'], ['red', 'shirt'], ['black', 'jeans'], ['red', 'shirt'], ['blue', 'jeans'], ['red', 'dress'], ['black', 'jeans'], ['black', 'jeans'], ['blue', 'jeans'], ['red', 'shirt'], ['red', 'dress'], ['black', 'jeans'], ['blue', 'shirt'], ['black', 'jeans'], ['blue', 'dress'], ['blue', 'jeans'], ['red', 'dress'], ['red', 'shirt'], ['red', 'dress'], ['black', 'jeans'], ['black', 'jeans'], ['red', 'dress'], ['red', 'shirt'], ['blue', 'shirt'], ['red', 'dress'], ['red', 'dress'], ['red', 'dress'], ['blue', 'dress'], ['blue', 'shirt'], ['blue', 'shirt'], ['black', 'jeans'], ['red', 'dress'], ['blue', 'dress'], ['red', 'dress'], ['red', 'shirt'], ['blue', 'shirt'], ['blue', 'shirt'], ['blue', 'dress'], ['black', 'jeans'], ['black', 'jeans'], ['black', 'jeans'], ['black', 'jeans'], ['black', 'jeans'], ['red', 'shirt'], ['red', 'shirt'], ['red', 'dress'], ['black', 'jeans'], ['red', 'dress'], ['blue', 'shirt'], ['blue', 'jeans'], ['black', 'jeans'], ['blue', 'shirt'], ['black', 'jeans'], ['blue', 'jeans'], ['black', 'jeans'], ['red', 'dress'], ['blue', 'shirt'], ['red', 'shirt'], ['blue', 'dress'], ['red', 'dress'], ['blue', 'jeans'], ['blue', 'shirt'], ['black', 'jeans'], ['red', 'dress'], ['blue', 'jeans'], ['red', 'dress'], ['blue', 'jeans'], ['red', 'shirt'], ['black', 'jeans'], ['black', 'jeans'], ['blue', 'dress'], ['blue', 'dress'], ['red', 'dress'], ['black', 'jeans'], ['blue', 'jeans'], ['blue', 'dress'], ['blue', 'jeans'], ['blue', 'jeans'], ['blue', 'jeans'], ['blue', 'dress'], ['red', 'dress'], ['blue', 'dress'], ['red', 'dress'], ['blue', 'shirt'], ['blue', 'dress'], ['blue', 'shirt'], ['red', 'shirt'], ['blue', 'dress'], ['blue', 'shirt'], ['red', 'shirt'], ['red', 'shirt'], ['red', 'dress'], ['blue', 'jeans'], ['black', 'jeans'], ['black', 'jeans'], ['red', 'dress'], ['red', 'shirt'], ['red', 'dress'], ['blue', 'dress'], ['blue', 'jeans'], ['blue', 'dress'], ['blue', 'dress'], ['blue', 'dress'], ['red', 'shirt'], ['red', 'shirt'], ['black', 'jeans'], ['blue', 'shirt'], ['red', 'shirt'], ['blue', 'dress'], ['blue', 'jeans'], ['blue', 'shirt'], ['blue', 'dress'], ['black', 'jeans'], ['blue', 'shirt'], ['red', 'shirt'], ['red', 'dress'], ['red', 'shirt'], ['blue', 'jeans'], ['blue', 'shirt'], ['red', 'shirt'], ['blue', 'shirt'], ['blue', 'jeans'], ['blue', 'shirt'], ['blue', 'shirt'], ['red', 'dress'], ['black', 'jeans'], ['blue', 'shirt'], ['red', 'shirt'], ['red', 'shirt'], ['blue', 'dress'], ['blue', 'jeans'], ['blue', 'jeans'], ['red', 'dress'], ['blue', 'shirt'], ['red', 'dress'], ['red', 'shirt'], ['red', 'shirt'], ['black', 'jeans'], ['blue', 'jeans'], ['black', 'jeans'], ['black', 'jeans'], ['blue', 'dress'], ['red', 'shirt'], ['red', 'dress'], ['red', 'dress'], ['blue', 'jeans'], ['red', 'shirt'], ['black', 'jeans'], ['black', 'jeans'], ['blue', 'jeans'], ['blue', 'dress'], ['blue', 'jeans'], ['blue', 'dress'], ['blue', 'dress'], ['blue', 'jeans'], ['black', 'jeans'], ['red', 'dress'], ['blue', 'jeans'], ['red', 'dress'], ['red', 'shirt'], ['black', 'jeans'], ['blue', 'jeans'], ['blue', 'jeans'], ['black', 'jeans'], ['blue', 'jeans'], ['blue', 'dress'], ['blue', 'dress'], ['black', 'jeans'], ['blue', 'shirt'], ['blue', 'jeans'], ['red', 'dress'], ['red', 'dress'], ['blue', 'dress'], ['red', 'dress'], ['black', 'jeans'], ['red', 'dress'], ['blue', 'shirt'], ['red', 'dress'], ['red', 'dress'], ['red', 'shirt'], ['blue', 'jeans'], ['blue', 'jeans'], ['red', 'shirt'], ['red', 'dress'], ['red', 'dress'], ['black', 'jeans'], ['blue', 'jeans'], ['black', 'jeans'], ['red', 'shirt'], ['red', 'shirt'], ['blue', 'dress'], ['blue', 'shirt'], ['red', 'shirt'], ['blue', 'jeans'], ['black', 'jeans'], ['blue', 'shirt'], ['red', 'shirt'], ['blue', 'jeans'], ['blue', 'dress'], ['red', 'dress'], ['blue', 'jeans'], ['red', 'dress'], ['red', 'shirt'], ['red', 'dress'], ['black', 'jeans'], ['black', 'jeans'], ['blue', 'shirt'], ['blue', 'dress'], ['blue', 'shirt'], ['black', 'jeans'], ['blue', 'jeans'], ['red', 'dress'], ['red', 'shirt'], ['blue', 'dress'], ['blue', 'jeans'], ['red', 'shirt'], ['red', 'shirt'], ['blue', 'shirt'], ['blue', 'shirt'], ['blue', 'shirt'], ['red', 'shirt'], ['blue', 'dress'], ['red', 'shirt'], ['black', 'jeans'], ['blue', 'jeans'], ['blue', 'jeans'], ['black', 'jeans'], ['red', 'shirt'], ['blue', 'shirt'], ['red', 'dress'], ['blue', 'shirt'], ['blue', 'dress'], ['blue', 'dress'], ['blue', 'dress'], ['blue', 'jeans'], ['red', 'shirt'], ['blue', 'jeans'], ['blue', 'dress'], ['blue', 'jeans'], ['blue', 'dress'], ['blue', 'jeans'], ['black', 'jeans'], ['blue', 'shirt'], ['blue', 'shirt'], ['blue', 'dress'], ['red', 'dress'], ['red', 'shirt'], ['blue', 'shirt'], ['red', 'dress'], ['blue', 'shirt'], ['blue', 'shirt'], ['red', 'shirt'], ['black', 'jeans'], ['blue', 'dress'], ['blue', 'dress'], ['blue', 'shirt'], ['blue', 'jeans'], ['blue', 'dress'], ['black', 'jeans'], ['black', 'jeans'], ['blue', 'shirt'], ['black', 'jeans'], ['blue', 'jeans'], ['red', 'shirt'], ['blue', 'jeans'], ['blue', 'dress'], ['red', 'dress'], ['black', 'jeans'], ['red', 'dress'], ['blue', 'dress'], ['red', 'shirt'], ['blue', 'shirt'], ['black', 'jeans'], ['black', 'jeans'], ['blue', 'jeans'], ['red', 'dress'], ['red', 'shirt'], ['black', 'jeans'], ['blue', 'jeans'], ['black', 'jeans'], ['blue', 'dress'], ['black', 'jeans'], ['blue', 'dress'], ['blue', 'jeans'], ['red', 'dress'], ['blue', 'shirt'], ['blue', 'dress'], ['blue', 'jeans'], ['black', 'jeans'], ['blue', 'dress'], ['black', 'jeans'], ['red', 'shirt'], ['blue', 'jeans'], ['black', 'jeans'], ['blue', 'jeans'], ['red', 'shirt'], ['blue', 'shirt'], ['blue', 'jeans'], ['black', 'jeans'], ['blue', 'dress'], ['black', 'jeans'], ['blue', 'shirt'], ['red', 'dress'], ['red', 'shirt'], ['blue', 'jeans'], ['blue', 'jeans'], ['blue', 'jeans'], ['blue', 'dress'], ['blue', 'jeans'], ['blue', 'jeans'], ['red', 'dress'], ['blue', 'shirt'], ['blue', 'jeans'], ['blue', 'dress'], ['blue', 'shirt'], ['black', 'jeans'], ['blue', 'jeans'], ['red', 'dress'], ['blue', 'shirt'], ['red', 'dress'], ['blue', 'dress'], ['blue', 'shirt'], ['blue', 'dress'], ['red', 'dress'], ['red', 'dress'], ['blue', 'jeans'], ['red', 'dress'], ['black', 'jeans'], ['red', 'dress'], ['blue', 'jeans'], ['blue', 'shirt'], ['blue', 'shirt'], ['red', 'shirt'], ['black', 'jeans'], ['blue', 'shirt'], ['black', 'jeans'], ['blue', 'dress'], ['blue', 'jeans'], ['blue', 'dress'], ['blue', 'jeans'], ['blue', 'dress'], ['blue', 'jeans'], ['red', 'shirt'], ['blue', 'shirt'], ['blue', 'jeans'], ['blue', 'dress'], ['red', 'shirt'], ['red', 'shirt'], ['red', 'shirt'], ['black', 'jeans'], ['blue', 'jeans'], ['blue', 'jeans'], ['red', 'shirt'], ['blue', 'dress'], ['black', 'jeans'], ['red', 'shirt'], ['blue', 'shirt'], ['red', 'dress'], ['red', 'dress'], ['blue', 'dress'], ['red', 'shirt'], ['red', 'dress'], ['blue', 'jeans'], ['red', 'dress'], ['blue', 'dress'], ['red', 'shirt'], ['red', 'shirt'], ['black', 'jeans'], ['red', 'shirt'], ['blue', 'shirt'], ['blue', 'shirt'], ['blue', 'shirt'], ['blue', 'dress'], ['red', 'shirt'], ['blue', 'dress'], ['red', 'dress'], ['blue', 'shirt'], ['red', 'dress'], ['black', 'jeans'], ['red', 'dress'], ['blue', 'dress'], ['blue', 'jeans'], ['black', 'jeans'], ['blue', 'jeans'], ['red', 'shirt'], ['blue', 'jeans'], ['blue', 'jeans'], ['blue', 'jeans'], ['blue', 'dress'], ['blue', 'jeans'], ['blue', 'dress'], ['red', 'dress'], ['black', 'jeans'], ['black', 'jeans'], ['red', 'dress'], ['black', 'jeans'], ['blue', 'shirt'], ['red', 'dress'], ['blue', 'jeans'], ['blue', 'shirt'], ['red', 'shirt'], ['black', 'jeans'], ['red', 'shirt'], ['red', 'dress'], ['red', 'dress'], ['red', 'dress'], ['red', 'dress'], ['blue', 'dress'], ['red', 'shirt'], ['red', 'dress'], ['red', 'dress'], ['blue', 'shirt'], ['red', 'shirt'], ['blue', 'jeans'], ['blue', 'jeans'], ['blue', 'jeans'], ['blue', 'dress'], ['blue', 'shirt'], ['blue', 'jeans'], ['blue', 'jeans'], ['black', 'jeans'], ['blue', 'jeans'], ['blue', 'jeans'], ['black', 'jeans'], ['blue', 'dress'], ['red', 'shirt'], ['blue', 'dress'], ['black', 'jeans'], ['blue', 'shirt'], ['black', 'jeans'], ['blue', 'shirt'], ['blue', 'shirt'], ['blue', 'jeans'], ['red', 'dress'], ['blue', 'dress'], ['black', 'jeans'], ['black', 'jeans'], ['blue', 'dress'], ['blue', 'dress'], ['blue', 'shirt'], ['blue', 'dress'], ['blue', 'shirt'], ['black', 'jeans'], ['blue', 'shirt'], ['blue', 'shirt'], ['blue', 'dress'], ['blue', 'shirt'], ['red', 'dress'], ['blue', 'jeans'], ['red', 'shirt'], ['blue', 'dress'], ['red', 'dress'], ['blue', 'dress'], ['black', 'jeans'], ['red', 'shirt'], ['red', 'shirt'], ['red', 'shirt'], ['blue', 'dress'], ['red', 'dress'], ['blue', 'jeans'], ['red', 'dress'], ['red', 'dress'], ['blue', 'jeans'], ['blue', 'jeans'], ['red', 'shirt'], ['blue', 'jeans'], ['red', 'dress'], ['red', 'dress'], ['red', 'shirt'], ['blue', 'jeans'], ['black', 'jeans'], ['red', 'shirt'], ['blue', 'dress'], ['red', 'shirt'], ['black', 'jeans'], ['red', 'shirt'], ['black', 'jeans'], ['black', 'jeans'], ['blue', 'dress'], ['red', 'shirt'], ['red', 'dress'], ['blue', 'shirt'], ['black', 'jeans'], ['red', 'dress'], ['blue', 'dress'], ['blue', 'shirt'], ['blue', 'dress'], ['red', 'shirt'], ['red', 'dress'], ['red', 'shirt'], ['blue', 'dress'], ['blue', 'dress'], ['black', 'jeans'], ['blue', 'dress'], ['blue', 'jeans'], ['blue', 'shirt'], ['red', 'dress'], ['black', 'jeans'], ['black', 'jeans'], ['black', 'jeans'], ['blue', 'shirt'], ['blue', 'dress'], ['blue', 'dress'], ['black', 'jeans'], ['black', 'jeans'], ['red', 'dress'], ['blue', 'dress'], ['blue', 'dress'], ['black', 'jeans'], ['black', 'jeans'], ['blue', 'shirt'], ['red', 'dress'], ['blue', 'jeans'], ['blue', 'dress'], ['red', 'dress'], ['blue', 'jeans'], ['blue', 'shirt'], ['red', 'dress'], ['blue', 'dress'], ['blue', 'jeans'], ['blue', 'shirt'], ['black', 'jeans'], ['red', 'dress'], ['black', 'jeans'], ['red', 'shirt'], ['blue', 'shirt'], ['red', 'dress'], ['black', 'jeans'], ['black', 'jeans'], ['blue', 'shirt'], ['black', 'jeans'], ['blue', 'jeans'], ['blue', 'jeans'], ['black', 'jeans'], ['black', 'jeans'], ['blue', 'jeans'], ['blue', 'dress'], ['black', 'jeans'], ['blue', 'dress'], ['blue', 'shirt'], ['red', 'shirt'], ['blue', 'jeans'], ['blue', 'jeans'], ['blue', 'dress'], ['blue', 'shirt'], ['blue', 'shirt'], ['red', 'dress'], ['blue', 'shirt'], ['blue', 'shirt'], ['blue', 'dress'], ['blue', 'shirt'], ['black', 'jeans'], ['black', 'jeans'], ['blue', 'dress'], ['black', 'jeans'], ['blue', 'shirt'], ['black', 'jeans'], ['red', 'shirt'], ['red', 'dress'], ['blue', 'jeans'], ['blue', 'dress'], ['blue', 'dress'], ['blue', 'dress'], ['black', 'jeans'], ['blue', 'dress'], ['red', 'shirt'], ['blue', 'jeans'], ['blue', 'shirt'], ['red', 'shirt'], ['blue', 'jeans'], ['blue', 'dress'], ['red', 'dress'], ['red', 'shirt'], ['blue', 'shirt'], ['black', 'jeans'], ['blue', 'dress'], ['blue', 'dress'], ['blue', 'shirt'], ['blue', 'dress'], ['red', 'dress'], ['red', 'dress'], ['blue', 'dress'], ['blue', 'jeans'], ['red', 'dress'], ['red', 'shirt'], ['red', 'shirt'], ['blue', 'jeans'], ['blue', 'dress'], ['red', 'dress'], ['red', 'shirt'], ['red', 'shirt'], ['blue', 'shirt'], ['blue', 'shirt'], ['blue', 'dress'], ['blue', 'dress'], ['blue', 'shirt'], ['blue', 'dress'], ['blue', 'dress'], ['black', 'jeans'], ['black', 'jeans'], ['blue', 'jeans'], ['blue', 'jeans'], ['blue', 'jeans'], ['blue', 'dress'], ['blue', 'shirt'], ['red', 'dress'], ['red', 'dress'], ['blue', 'dress'], ['red', 'shirt'], ['blue', 'dress'], ['blue', 'jeans'], ['black', 'jeans'], ['red', 'shirt'], ['blue', 'dress'], ['blue', 'shirt'], ['blue', 'dress'], ['blue', 'dress'], ['blue', 'dress'], ['blue', 'dress'], ['blue', 'dress'], ['blue', 'jeans'], ['blue', 'shirt'], ['blue', 'dress'], ['red', 'dress'], ['black', 'jeans'], ['red', 'dress'], ['red', 'dress'], ['blue', 'shirt'], ['blue', 'shirt'], ['red', 'dress'], ['red', 'shirt'], ['blue', 'jeans'], ['red', 'dress'], ['red', 'shirt'], ['blue', 'dress'], ['blue', 'dress'], ['blue', 'dress'], ['blue', 'shirt'], ['blue', 'shirt'], ['blue', 'shirt'], ['blue', 'jeans'], ['red', 'dress'], ['blue', 'shirt'], ['blue', 'dress'], ['blue', 'jeans'], ['red', 'dress'], ['blue', 'jeans'], ['red', 'shirt'], ['blue', 'jeans'], ['blue', 'shirt'], ['blue', 'jeans'], ['blue', 'jeans'], ['black', 'jeans'], ['red', 'shirt'], ['red', 'shirt'], ['black', 'jeans'], ['blue', 'dress'], ['blue', 'shirt'], ['red', 'dress'], ['red', 'shirt'], ['blue', 'jeans'], ['red', 'shirt'], ['blue', 'shirt'], ['blue', 'dress'], ['black', 'jeans'], ['blue', 'shirt'], ['red', 'shirt'], ['blue', 'shirt'], ['blue', 'dress'], ['black', 'jeans'], ['red', 'shirt'], ['blue', 'shirt'], ['blue', 'shirt'], ['black', 'jeans'], ['blue', 'dress'], ['blue', 'jeans'], ['blue', 'jeans'], ['blue', 'shirt'], ['red', 'shirt'], ['black', 'jeans'], ['red', 'dress'], ['red', 'dress'], ['blue', 'dress'], ['black', 'jeans'], ['blue', 'shirt'], ['blue', 'shirt'], ['blue', 'shirt'], ['black', 'jeans'], ['blue', 'jeans'], ['blue', 'dress'], ['red', 'dress'], ['blue', 'dress'], ['blue', 'shirt'], ['black', 'jeans'], ['red', 'dress'], ['red', 'shirt'], ['black', 'jeans'], ['red', 'dress'], ['red', 'dress'], ['red', 'dress'], ['black', 'jeans'], ['red', 'dress'], ['red', 'dress'], ['black', 'jeans'], ['black', 'jeans'], ['blue', 'shirt'], ['red', 'dress'], ['blue', 'shirt'], ['blue', 'dress'], ['red', 'dress'], ['black', 'jeans'], ['red', 'shirt'], ['red', 'shirt'], ['red', 'dress'], ['red', 'dress'], ['blue', 'dress'], ['blue', 'jeans'], ['blue', 'dress'], ['blue', 'shirt'], ['blue', 'dress'], ['red', 'shirt'], ['red', 'shirt'], ['red', 'shirt'], ['blue', 'dress'], ['red', 'dress'], ['blue', 'dress'], ['red', 'dress'], ['red', 'shirt'], ['blue', 'jeans'], ['black', 'jeans'], ['blue', 'jeans'], ['blue', 'shirt'], ['black', 'jeans'], ['blue', 'shirt'], ['blue', 'shirt'], ['blue', 'shirt'], ['blue', 'shirt'], ['blue', 'jeans'], ['black', 'jeans'], ['red', 'shirt'], ['blue', 'shirt'], ['red', 'dress'], ['blue', 'jeans'], ['red', 'shirt'], ['blue', 'jeans'], ['blue', 'shirt'], ['blue', 'shirt'], ['blue', 'dress'], ['blue', 'jeans'], ['black', 'jeans'], ['red', 'shirt'], ['blue', 'jeans'], ['blue', 'dress'], ['red', 'shirt'], ['blue', 'jeans'], ['red', 'shirt'], ['blue', 'shirt'], ['blue', 'shirt'], ['red', 'dress'], ['red', 'dress'], ['blue', 'jeans'], ['blue', 'dress'], ['blue', 'dress'], ['black', 'jeans'], ['red', 'shirt'], ['blue', 'jeans'], ['blue', 'shirt'], ['black', 'jeans'], ['blue', 'shirt'], ['red', 'shirt'], ['blue', 'jeans'], ['blue', 'jeans'], ['blue', 'dress'], ['black', 'jeans'], ['blue', 'jeans'], ['blue', 'jeans'], ['blue', 'shirt'], ['blue', 'dress'], ['blue', 'jeans'], ['blue', 'jeans'], ['red', 'shirt'], ['red', 'shirt'], ['blue', 'shirt'], ['black', 'jeans'], ['blue', 'shirt'], ['blue', 'jeans'], ['blue', 'dress'], ['black', 'jeans'], ['black', 'jeans'], ['black', 'jeans'], ['blue', 'shirt'], ['blue', 'dress'], ['blue', 'dress'], ['blue', 'dress'], ['blue', 'dress'], ['red', 'shirt'], ['red', 'dress'], ['black', 'jeans'], ['blue', 'jeans'], ['blue', 'dress'], ['blue', 'dress'], ['blue', 'shirt'], ['blue', 'jeans'], ['blue', 'jeans'], ['blue', 'dress'], ['blue', 'shirt'], ['blue', 'dress'], ['blue', 'dress'], ['blue', 'jeans'], ['blue', 'jeans'], ['black', 'jeans'], ['blue', 'jeans'], ['red', 'dress'], ['blue', 'jeans'], ['blue', 'jeans'], ['red', 'shirt'], ['blue', 'shirt'], ['blue', 'jeans'], ['blue', 'dress'], ['blue', 'shirt'], ['blue', 'shirt'], ['red', 'shirt'], ['red', 'shirt'], ['red', 'dress'], ['black', 'jeans'], ['blue', 'jeans'], ['black', 'jeans'], ['blue', 'dress'], ['blue', 'shirt'], ['red', 'shirt'], ['blue', 'jeans'], ['blue', 'jeans'], ['blue', 'shirt'], ['blue', 'dress'], ['blue', 'dress'], ['red', 'shirt'], ['black', 'jeans'], ['black', 'jeans'], ['red', 'shirt'], ['blue', 'shirt'], ['black', 'jeans'], ['blue', 'dress'], ['red', 'dress'], ['blue', 'jeans'], ['blue', 'jeans'], ['red', 'shirt'], ['red', 'shirt'], ['blue', 'dress'], ['blue', 'shirt'], ['blue', 'shirt'], ['blue', 'jeans'], ['blue', 'jeans'], ['black', 'jeans'], ['blue', 'shirt'], ['red', 'shirt'], ['blue', 'dress'], ['black', 'jeans'], ['red', 'dress'], ['black', 'jeans'], ['red', 'shirt'], ['red', 'shirt'], ['blue', 'dress'], ['blue', 'shirt'], ['red', 'dress'], ['red', 'dress'], ['red', 'shirt'], ['blue', 'dress'], ['red', 'dress'], ['blue', 'shirt'], ['blue', 'shirt'], ['blue', 'jeans'], ['blue', 'dress'], ['black', 'jeans'], ['red', 'shirt'], ['blue', 'dress'], ['red', 'dress'], ['blue', 'jeans'], ['blue', 'jeans'], ['red', 'shirt'], ['blue', 'shirt'], ['blue', 'jeans'], ['red', 'dress'], ['red', 'shirt'], ['blue', 'dress'], ['blue', 'shirt'], ['red', 'shirt'], ['blue', 'shirt'], ['red', 'dress'], ['red', 'dress'], ['blue', 'dress'], ['blue', 'dress'], ['black', 'jeans'], ['blue', 'shirt'], ['blue', 'jeans'], ['blue', 'dress'], ['blue', 'shirt'], ['blue', 'shirt'], ['red', 'shirt'], ['red', 'dress'], ['blue', 'shirt'], ['red', 'shirt'], ['blue', 'shirt'], ['blue', 'jeans'], ['red', 'shirt'], ['red', 'shirt'], ['red', 'dress'], ['blue', 'dress'], ['blue', 'shirt'], ['red', 'shirt'], ['blue', 'dress'], ['blue', 'jeans'], ['red', 'dress'], ['blue', 'dress'], ['blue', 'jeans'], ['blue', 'dress'], ['red', 'dress'], ['black', 'jeans'], ['red', 'shirt'], ['red', 'dress'], ['blue', 'shirt'], ['red', 'shirt'], ['blue', 'shirt'], ['black', 'jeans'], ['blue', 'jeans'], ['blue', 'jeans'], ['blue', 'dress'], ['blue', 'shirt'], ['red', 'dress'], ['red', 'dress'], ['red', 'dress'], ['blue', 'shirt'], ['blue', 'shirt'], ['blue', 'jeans'], ['black', 'jeans'], ['red', 'dress'], ['blue', 'shirt'], ['red', 'shirt'], ['blue', 'dress'], ['red', 'shirt'], ['red', 'shirt'], ['blue', 'jeans'], ['red', 'shirt'], ['blue', 'jeans'], ['blue', 'shirt'], ['blue', 'jeans'], ['red', 'shirt'], ['red', 'dress'], ['red', 'dress'], ['blue', 'dress'], ['blue', 'jeans'], ['blue', 'shirt'], ['black', 'jeans'], ['black', 'jeans'], ['red', 'dress'], ['blue', 'shirt'], ['blue', 'dress'], ['red', 'shirt'], ['red', 'dress'], ['black', 'jeans'], ['blue', 'dress'], ['red', 'shirt'], ['blue', 'shirt'], ['blue', 'jeans'], ['blue', 'jeans'], ['blue', 'shirt'], ['blue', 'dress'], ['red', 'shirt'], ['red', 'dress'], ['black', 'jeans'], ['red', 'shirt'], ['blue', 'dress'], ['blue', 'jeans'], ['blue', 'dress'], ['red', 'shirt'], ['black', 'jeans'], ['red', 'shirt'], ['blue', 'dress'], ['red', 'dress'], ['blue', 'dress'], ['blue', 'dress'], ['blue', 'jeans'], ['blue', 'dress'], ['blue', 'dress'], ['blue', 'jeans'], ['black', 'jeans'], ['blue', 'jeans'], ['black', 'jeans'], ['blue', 'shirt'], ['red', 'dress'], ['red', 'shirt'], ['blue', 'dress'], ['blue', 'dress'], ['red', 'dress'], ['red', 'dress'], ['red', 'dress'], ['red', 'dress'], ['blue', 'jeans'], ['red', 'dress'], ['blue', 'dress'], ['red', 'dress'], ['blue', 'dress'], ['black', 'jeans'], ['blue', 'jeans'], ['blue', 'dress'], ['red', 'dress'], ['red', 'dress'], ['black', 'jeans'], ['red', 'shirt'], ['black', 'jeans'], ['red', 'dress'], ['blue', 'shirt'], ['red', 'shirt'], ['blue', 'shirt'], ['red', 'dress'], ['blue', 'dress'], ['black', 'jeans'], ['blue', 'shirt'], ['red', 'shirt'], ['blue', 'shirt'], ['blue', 'dress'], ['blue', 'jeans'], ['red', 'dress'], ['red', 'dress'], ['blue', 'jeans'], ['blue', 'dress'], ['black', 'jeans'], ['black', 'jeans'], ['blue', 'jeans'], ['black', 'jeans'], ['blue', 'shirt'], ['blue', 'shirt'], ['red', 'dress'], ['red', 'dress'], ['black', 'jeans'], ['blue', 'shirt'], ['black', 'jeans'], ['blue', 'shirt'], ['red', 'shirt'], ['red', 'shirt'], ['red', 'dress'], ['blue', 'shirt'], ['blue', 'jeans'], ['blue', 'shirt'], ['blue', 'shirt'], ['blue', 'jeans'], ['red', 'dress'], ['red', 'shirt'], ['blue', 'dress'], ['blue', 'shirt'], ['black', 'jeans'], ['red', 'dress'], ['blue', 'dress'], ['black', 'jeans'], ['black', 'jeans'], ['red', 'shirt'], ['red', 'dress'], ['red', 'shirt'], ['blue', 'shirt'], ['black', 'jeans'], ['black', 'jeans'], ['red', 'dress'], ['blue', 'dress'], ['red', 'shirt'], ['blue', 'jeans'], ['blue', 'dress'], ['blue', 'shirt'], ['blue', 'shirt'], ['blue', 'dress'], ['blue', 'dress'], ['red', 'dress'], ['blue', 'dress'], ['blue', 'shirt'], ['blue', 'dress'], ['blue', 'dress'], ['black', 'jeans'], ['blue', 'shirt'], ['red', 'dress'], ['black', 'jeans'], ['black', 'jeans'], ['blue', 'dress'], ['black', 'jeans'], ['black', 'jeans'], ['blue', 'shirt'], ['blue', 'dress'], ['blue', 'shirt'], ['red', 'dress'], ['blue', 'shirt'], ['black', 'jeans'], ['red', 'shirt'], ['blue', 'shirt'], ['red', 'shirt'], ['blue', 'shirt'], ['blue', 'dress'], ['blue', 'shirt'], ['blue', 'shirt'], ['red', 'dress'], ['red', 'shirt'], ['black', 'jeans'], ['blue', 'dress'], ['blue', 'jeans'], ['blue', 'dress'], ['red', 'dress'], ['blue', 'dress'], ['red', 'shirt'], ['red', 'dress'], ['blue', 'jeans'], ['blue', 'dress'], ['blue', 'shirt'], ['black', 'jeans'], ['black', 'jeans'], ['blue', 'shirt'], ['blue', 'shirt'], ['red', 'shirt'], ['black', 'jeans'], ['black', 'jeans'], ['red', 'dress'], ['red', 'dress'], ['blue', 'jeans'], ['blue', 'dress'], ['blue', 'shirt'], ['red', 'shirt'], ['black', 'jeans'], ['blue', 'jeans'], ['red', 'shirt'], ['blue', 'dress'], ['blue', 'dress'], ['red', 'dress'], ['blue', 'shirt'], ['red', 'shirt'], ['blue', 'dress'], ['red', 'shirt'], ['blue', 'jeans'], ['blue', 'shirt'], ['blue', 'shirt'], ['blue', 'shirt'], ['red', 'shirt'], ['black', 'jeans'], ['blue', 'shirt'], ['black', 'jeans'], ['blue', 'shirt'], ['red', 'shirt'], ['blue', 'dress'], ['blue', 'shirt'], ['black', 'jeans'], ['blue', 'jeans'], ['blue', 'dress'], ['red', 'dress'], ['blue', 'shirt'], ['black', 'jeans'], ['blue', 'shirt'], ['black', 'jeans'], ['blue', 'dress'], ['red', 'dress'], ['black', 'jeans'], ['blue', 'jeans'], ['black', 'jeans'], ['red', 'shirt'], ['blue', 'shirt'], ['red', 'dress'], ['red', 'shirt'], ['blue', 'jeans'], ['blue', 'shirt'], ['red', 'shirt'], ['black', 'jeans'], ['blue', 'dress'], ['red', 'dress'], ['red', 'shirt'], ['blue', 'shirt'], ['red', 'dress'], ['blue', 'shirt'], ['black', 'jeans'], ['blue', 'dress'], ['blue', 'dress'], ['blue', 'dress'], ['black', 'jeans'], ['blue', 'jeans'], ['red', 'dress'], ['blue', 'shirt'], ['red', 'shirt'], ['red', 'dress'], ['red', 'dress'], ['blue', 'shirt'], ['red', 'shirt'], ['blue', 'dress'], ['blue', 'jeans'], ['red', 'dress'], ['red', 'dress'], ['blue', 'dress'], ['blue', 'jeans'], ['black', 'jeans'], ['blue', 'jeans'], ['black', 'jeans'], ['red', 'shirt'], ['red', 'shirt'], ['blue', 'jeans'], ['red', 'dress'], ['blue', 'dress'], ['blue', 'jeans'], ['red', 'shirt'], ['blue', 'jeans'], ['black', 'jeans'], ['blue', 'dress'], ['red', 'dress'], ['red', 'dress'], ['black', 'jeans'], ['black', 'jeans'], ['red', 'dress'], ['blue', 'shirt'], ['blue', 'shirt'], ['black', 'jeans'], ['black', 'jeans'], ['blue', 'shirt'], ['red', 'dress'], ['red', 'shirt'], ['red', 'dress'], ['blue', 'jeans'], ['black', 'jeans'], ['red', 'shirt'], ['red', 'dress'], ['red', 'shirt'], ['blue', 'jeans'], ['red', 'shirt'], ['blue', 'dress'], ['red', 'shirt'], ['black', 'jeans'], ['blue', 'jeans'], ['blue', 'shirt'], ['red', 'shirt'], ['blue', 'dress'], ['blue', 'dress'], ['black', 'jeans'], ['red', 'dress'], ['red', 'dress'], ['blue', 'dress'], ['red', 'dress'], ['blue', 'jeans'], ['black', 'jeans'], ['black', 'jeans'], ['blue', 'shirt'], ['blue', 'shirt'], ['blue', 'shirt'], ['black', 'jeans'], ['red', 'dress'], ['red', 'dress'], ['blue', 'jeans'], ['blue', 'jeans'], ['blue', 'jeans'], ['blue', 'dress'], ['blue', 'jeans'], ['blue', 'shirt'], ['black', 'jeans'], ['black', 'jeans'], ['blue', 'dress'], ['blue', 'jeans'], ['red', 'dress'], ['red', 'shirt'], ['red', 'dress'], ['blue', 'dress'], ['blue', 'jeans'], ['blue', 'shirt'], ['blue', 'shirt'], ['red', 'dress'], ['red', 'shirt'], ['red', 'shirt'], ['black', 'jeans'], ['red', 'shirt'], ['blue', 'dress'], ['blue', 'jeans'], ['blue', 'shirt'], ['blue', 'dress'], ['blue', 'dress'], ['blue', 'jeans'], ['red', 'shirt'], ['blue', 'dress'], ['red', 'dress'], ['black', 'jeans'], ['red', 'shirt'], ['black', 'jeans'], ['blue', 'dress'], ['black', 'jeans'], ['red', 'shirt'], ['blue', 'shirt'], ['black', 'jeans'], ['black', 'jeans'], ['blue', 'dress'], ['blue', 'shirt'], ['blue', 'dress'], ['blue', 'shirt'], ['blue', 'shirt'], ['black', 'jeans'], ['blue', 'dress'], ['red', 'shirt'], ['blue', 'dress'], ['blue', 'dress'], ['black', 'jeans'], ['blue', 'jeans'], ['blue', 'jeans'], ['red', 'shirt'], ['blue', 'jeans'], ['blue', 'jeans'], ['blue', 'shirt'], ['blue', 'shirt'], ['blue', 'jeans'], ['blue', 'dress'], ['red', 'dress'], ['blue', 'dress'], ['blue', 'shirt'], ['red', 'shirt'], ['red', 'dress'], ['red', 'shirt'], ['red', 'shirt'], ['blue', 'dress'], ['red', 'shirt'], ['blue', 'jeans'], ['blue', 'shirt'], ['red', 'dress'], ['blue', 'jeans'], ['blue', 'dress'], ['black', 'jeans'], ['blue', 'shirt'], ['red', 'shirt'], ['blue', 'jeans'], ['blue', 'shirt'], ['black', 'jeans'], ['black', 'jeans'], ['red', 'dress'], ['blue', 'shirt'], ['red', 'dress'], ['red', 'shirt'], ['black', 'jeans'], ['red', 'dress'], ['blue', 'jeans'], ['red', 'dress'], ['black', 'jeans'], ['black', 'jeans'], ['red', 'shirt'], ['blue', 'shirt'], ['red', 'dress'], ['blue', 'dress'], ['black', 'jeans'], ['blue', 'dress'], ['blue', 'dress'], ['red', 'dress'], ['red', 'dress'], ['red', 'shirt'], ['red', 'dress'], ['blue', 'jeans'], ['red', 'shirt'], ['red', 'shirt'], ['black', 'jeans'], ['blue', 'jeans'], ['blue', 'dress'], ['blue', 'shirt'], ['black', 'jeans'], ['red', 'shirt'], ['blue', 'shirt'], ['red', 'shirt'], ['red', 'dress'], ['red', 'shirt'], ['blue', 'shirt'], ['black', 'jeans'], ['red', 'dress'], ['blue', 'jeans'], ['black', 'jeans'], ['blue', 'dress'], ['blue', 'shirt'], ['blue', 'jeans'], ['blue', 'shirt'], ['red', 'dress'], ['blue', 'shirt'], ['blue', 'dress'], ['blue', 'jeans'], ['blue', 'jeans'], ['black', 'jeans'], ['red', 'shirt'], ['blue', 'dress'], ['red', 'dress'], ['blue', 'shirt'], ['red', 'shirt'], ['red', 'shirt'], ['blue', 'shirt'], ['blue', 'dress'], ['black', 'jeans'], ['blue', 'jeans'], ['red', 'shirt'], ['red', 'dress'], ['red', 'dress'], ['black', 'jeans'], ['red', 'dress'], ['blue', 'dress'], ['blue', 'dress'], ['blue', 'dress'], ['black', 'jeans'], ['blue', 'dress'], ['red', 'shirt'], ['blue', 'dress'], ['blue', 'jeans'], ['red', 'dress'], ['red', 'dress'], ['red', 'dress'], ['blue', 'jeans'], ['blue', 'jeans'], ['red', 'shirt'], ['blue', 'jeans'], ['blue', 'dress'], ['red', 'shirt'], ['red', 'dress'], ['red', 'shirt'], ['blue', 'jeans'], ['blue', 'shirt'], ['blue', 'jeans'], ['black', 'jeans'], ['blue', 'shirt'], ['red', 'dress'], ['blue', 'shirt'], ['black', 'jeans'], ['blue', 'jeans'], ['black', 'jeans'], ['blue', 'shirt'], ['blue', 'jeans'], ['blue', 'shirt'], ['red', 'dress'], ['red', 'shirt'], ['blue', 'dress'], ['blue', 'jeans'], ['blue', 'dress'], ['black', 'jeans'], ['blue', 'shirt'], ['blue', 'jeans'], ['red', 'dress'], ['red', 'dress'], ['blue', 'dress'], ['red', 'dress'], ['red', 'shirt'], ['red', 'shirt'], ['red', 'shirt'], ['blue', 'dress'], ['blue', 'jeans'], ['black', 'jeans'], ['blue', 'shirt'], ['blue', 'jeans'], ['black', 'jeans'], ['black', 'jeans'], ['blue', 'jeans'], ['red', 'dress'], ['blue', 'shirt'], ['black', 'jeans'], ['red', 'dress'], ['blue', 'dress'], ['red', 'shirt'], ['black', 'jeans'], ['blue', 'jeans'], ['blue', 'shirt'], ['red', 'dress'], ['blue', 'dress'], ['red', 'dress'], ['blue', 'dress'], ['blue', 'dress'], ['blue', 'shirt'], ['blue', 'jeans'], ['blue', 'dress'], ['blue', 'shirt'], ['blue', 'shirt'], ['red', 'dress'], ['blue', 'dress'], ['black', 'jeans'], ['blue', 'shirt'], ['red', 'shirt'], ['blue', 'jeans'], ['red', 'dress'], ['blue', 'jeans'], ['black', 'jeans'], ['red', 'shirt'], ['blue', 'jeans'], ['blue', 'jeans'], ['blue', 'dress'], ['black', 'jeans'], ['black', 'jeans'], ['red', 'dress'], ['blue', 'dress'], ['blue', 'dress'], ['blue', 'dress'], ['blue', 'jeans'], ['blue', 'jeans'], ['blue', 'shirt'], ['black', 'jeans'], ['blue', 'dress']]\n"
     ]
    }
   ],
   "source": [
    "print(unique,labels,sep='\\n\\n')"
   ]
  },
  {
   "cell_type": "code",
   "execution_count": 10,
   "metadata": {},
   "outputs": [
    {
     "name": "stdout",
     "output_type": "stream",
     "text": [
      "# Data matrix: 2165 images (467.64MB)\n"
     ]
    }
   ],
   "source": [
    "data = np.array(data, dtype='float') / 255.0\n",
    "labels = np.array(labels)\n",
    "\n",
    "print('# Data matrix: {} images ({:.2f}MB)'.format(len(imagePaths), data.nbytes / (1024*1000.0)))"
   ]
  },
  {
   "cell_type": "code",
   "execution_count": 20,
   "metadata": {},
   "outputs": [
    {
     "name": "stdout",
     "output_type": "stream",
     "text": [
      "#Class labels : \n",
      "1. black\n",
      "2. blue\n",
      "3. dress\n",
      "4. jeans\n",
      "5. red\n",
      "6. shirt\n"
     ]
    }
   ],
   "source": [
    "print('#Class labels : ')\n",
    "mlb = MultiLabelBinarizer()\n",
    "labels = mlb.fit_transform(labels)\n",
    "\n",
    "for (i, label) in enumerate(mlb.classes_):\n",
    "    print('{}. {}'.format(i+1, label))"
   ]
  },
  {
   "cell_type": "code",
   "execution_count": 28,
   "metadata": {},
   "outputs": [
    {
     "name": "stdout",
     "output_type": "stream",
     "text": [
      "<class 'str'>\n"
     ]
    }
   ],
   "source": [
    "print(type(mlb.classes_[0]))"
   ]
  },
  {
   "cell_type": "code",
   "execution_count": null,
   "metadata": {},
   "outputs": [],
   "source": [
    "class Metrics(Callback):\n",
    "    def on_train_begin(self, logs={}):\n",
    "        self.val_f1s = []\n",
    "        self.val_recalls = []\n",
    "        self.val_precisions = []\n",
    "    def on_epoch_end(self, epoch, logs={}):\n",
    "        val_predict = (np.asarray(self.model.predict(self.validation_data[0]))).round()\n",
    "        val_targ = self.validation_data[1]\n",
    "        _val_f1 = f1_score(val_targ, val_predict, average='weighted')\n",
    "        _val_recall = recall_score(val_targ, val_predict, average='weighted')\n",
    "        _val_precision = precision_score(val_targ, val_predict, average='weighted')\n",
    "        self.val_f1s.append(_val_f1)\n",
    "        self.val_recalls.append(_val_recall)\n",
    "        self.val_precisions.append(_val_precision)\n",
    "        print(\"— val_f1: {} — val_precision: {} — val_recall {}\".format(_val_f1, _val_precision, _val_recall))\n",
    "        return\n",
    "metrics = Metrics()\n",
    "class TestCallback(Callback):\n",
    "    def __init__(self, test_data):\n",
    "        self.test_data = test_data\n",
    "    def on_epoch_end(self, epoch, logs={}):\n",
    "        x, y = self.test_data\n",
    "        loss, acc = self.model.evaluate(x, y, verbose=0)\n",
    "        print('\\nTesting loss: {}, acc: {}\\n'.format(loss, acc))\n"
   ]
  },
  {
   "cell_type": "code",
   "execution_count": null,
   "metadata": {
    "scrolled": true
   },
   "outputs": [],
   "source": [
    "X_train, X_test1, y_train, y_test1 = train_test_split(data, labels, test_size=0.3, random_state=42)\n",
    "X_valid, X_test, y_valid, y_test = train_test_split(X_test1, y_test1, test_size=0.2, random_state=42)\n",
    "aug = ImageDataGenerator(rotation_range=25, width_shift_range=0.1, height_shift_range=0.1, shear_range=0.2, zoom_range=0.2, horizontal_flip=True, fill_mode=\"nearest\")"
   ]
  },
  {
   "cell_type": "code",
   "execution_count": null,
   "metadata": {},
   "outputs": [],
   "source": [
    "model = SmallerVGGNet.build(width=image_size[1], height = image_size[0], depth=image_size[2], classes=len(mlb.classes_), finalAct=\"sigmoid\")\n",
    "opt = Adam(lr=lr, decay = lr/epochs)"
   ]
  },
  {
   "cell_type": "markdown",
   "metadata": {},
   "source": [
    "The kernel had a crashing problems on this jupyter notebook at MacOS, but works perfect else where.."
   ]
  },
  {
   "cell_type": "code",
   "execution_count": null,
   "metadata": {
    "scrolled": false
   },
   "outputs": [],
   "source": [
    "model.compile(loss=\"binary_crossentropy\", optimizer=opt, metrics=['accuracy'])\n",
    "\n",
    "checkpoint = ModelCheckpoint('{val_acc:.4f}.hdf5', monitor='val_acc', verbose=1, save_best_only=True, mode='auto')\n",
    "\n",
    "#since the data is already has almost equal distribution, class imbalance handling measurements are not required\n",
    "\n",
    "print('#Training Network..')\n",
    "H = model.fit_generator(aug.flow(X_train, y_train, batch_size=batch_size),\n",
    "                       validation_data = (X_valid, y_valid), steps_per_epoch = len(X_train)//batch_size, epochs=50, verbose=1, callbacks=[metrics, TestCallback(X_valid, y_valid)])\n"
   ]
  },
  {
   "cell_type": "code",
   "execution_count": null,
   "metadata": {},
   "outputs": [],
   "source": [
    "plt.style.use('ggplot')\n",
    "plt.figure()\n",
    "n = epochs\n",
    "plt.plot(np.arange(0, n), H.history['loss'], label='train_loss')\n",
    "plt.plot(np.arange(0, n), H.history['val_loss'], label='val_loss')\n",
    "plt.plot(np.arange(0, n), H.history['acc'], label='train_acc')\n",
    "plt.plot(np.arange(0, n), H.history['val_acc'], label='val_acc')\n",
    "plt.title(\"Training and Validation : Loss and Accuracy\")\n",
    "plt.xlabel(\"Epoch #\")\n",
    "plt.ylabel(\"Loss_and_Accuracy\")\n",
    "plt.legend(loc=\"upper left\")\n",
    "plt.savefig('Acc_loss_graph.png')"
   ]
  },
  {
   "cell_type": "markdown",
   "metadata": {},
   "source": [
    "# Prediction"
   ]
  },
  {
   "cell_type": "code",
   "execution_count": null,
   "metadata": {},
   "outputs": [],
   "source": [
    "from keras.models import load_model\n",
    "\n",
    "#if required\n",
    "# model = load_model('0.9942.hdf5')\n",
    "# mlbclasses_ = np.array(['black','blue','dress','jeans','red','shirt'])\n",
    "\n",
    "mlbclasses_ = ['black','blue','dress','jeans','red','shirt']\n",
    "\n",
    "image = cv2.imread('model.jpg')\n",
    "output = imutils.resize(image, width=400)\n",
    "\n",
    "image = cv2.resize(image, (96, 96))\n",
    "image = image.astype(\"float\") / 255.0\n",
    "image = img_to_array(image)\n",
    "print(image.shape)\n",
    "image = np.expand_dims(image, axis=0)\n",
    "print('Expanded dims:', image.shape)"
   ]
  },
  {
   "cell_type": "code",
   "execution_count": null,
   "metadata": {},
   "outputs": [],
   "source": [
    "proba = model.predict(image)[0]\n",
    "# idxs = np.argsort(proba)[::-1][:2] #extract top 2 labels, has problem at macOS jupyter notebook\n",
    "\n",
    "for (i, j) in enumerate(idxs):\n",
    "    label = \"{}: {:.2f}%\".format(mlbclasses_[j], proba[j]*100)\n",
    "    cv2.putText(output, label, (10, (i*30)+25 ), cv2.FONT_HERSHEY_SIMPLEX, 0.7, (0,255,0), 2)\n",
    "\n",
    "for (label, p) in zip(mlbclasses_, proba):\n",
    "    print(\"{}: {:2f}%\".format(label, p*100))\n",
    "    \n",
    "# cv2.imshow(\"Output\", output) #a few problems at MacOS jupyter notebook\n",
    "# cv2.waitKey(0) "
   ]
  }
 ],
 "metadata": {
  "kernelspec": {
   "display_name": "Python 3",
   "language": "python",
   "name": "python3"
  },
  "language_info": {
   "codemirror_mode": {
    "name": "ipython",
    "version": 3
   },
   "file_extension": ".py",
   "mimetype": "text/x-python",
   "name": "python",
   "nbconvert_exporter": "python",
   "pygments_lexer": "ipython3",
   "version": "3.7.3"
  }
 },
 "nbformat": 4,
 "nbformat_minor": 2
}
